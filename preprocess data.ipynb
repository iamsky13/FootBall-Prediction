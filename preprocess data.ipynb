{
 "cells": [
  {
   "cell_type": "code",
   "execution_count": 1,
   "metadata": {
    "collapsed": true
   },
   "outputs": [],
   "source": [
    "import numpy as np\n",
    "import pandas as pd\n",
    "from datetime import datetime as dt\n",
    "import itertools\n",
    "\n",
    "%matplotlib inline"
   ]
  },
  {
   "cell_type": "code",
   "execution_count": 7,
   "metadata": {},
   "outputs": [],
   "source": [
    "raw_data_0 = pd.read_csv('data/E0.csv')\n",
    "raw_data_1 = pd.read_csv('data/E0(1).csv')\n",
    "raw_data_2 = pd.read_csv('data/E0(2).csv')\n",
    "raw_data_3 = pd.read_csv('data/E0(3).csv')\n",
    "raw_data_4 = pd.read_csv('data/E0(4).csv')\n",
    "raw_data_5 = pd.read_csv('data/E0(5).csv')\n",
    "raw_data_6 = pd.read_csv('data/E0(6).csv')\n",
    "raw_data_7 = pd.read_csv('data/E0(7).csv')\n",
    "raw_data_8 = pd.read_csv('data/E0(8).csv')\n",
    "raw_data_9 = pd.read_csv('data/E0(9).csv')\n",
    "raw_data_10 = pd.read_csv('data/E0(10).csv')\n",
    "raw_data_11 = pd.read_csv('data/E0(11).csv')\n",
    "raw_data_12 = pd.read_csv('data/E0(12).csv')\n",
    "\n",
    "\n",
    "def parse_date(date):\n",
    "    if date == '':\n",
    "        return None\n",
    "    else:\n",
    "        return dt.strptime(date, '%d/%m/%y').date()\n",
    "\n",
    "    \n",
    "\n",
    "    \n",
    "raw_data_0.Date = raw_data_0.Date.apply(parse_date)    \n",
    "raw_data_1.Date = raw_data_1.Date.apply(parse_date)    \n",
    "raw_data_2.Date = raw_data_2.Date.apply(parse_date)    \n",
    "raw_data_3.Date = raw_data_3.Date.apply(parse_date)           \n",
    "raw_data_4.Date = raw_data_4.Date.apply(parse_date)    \n",
    "raw_data_5.Date = raw_data_5.Date.apply(parse_date)    \n",
    "raw_data_6.Date = raw_data_6.Date.apply(parse_date)    \n",
    "raw_data_7.Date = raw_data_7.Date.apply(parse_date)    \n",
    "raw_data_8.Date = raw_data_8.Date.apply(parse_date)    \n",
    "raw_data_9.Date = raw_data_9.Date.apply(parse_date)    \n",
    "raw_data_10.Date = raw_data_10.Date.apply(parse_date)\n",
    "raw_data_11.Date = raw_data_11.Date.apply(parse_date)\n",
    "raw_data_12.Date = raw_data_12.Date.apply(parse_date)\n",
    "\n",
    "#column only related to gameplay\n",
    "columns_req = ['Date','HomeTeam','AwayTeam','FTHG','FTAG','FTR']\n",
    "\n",
    "playing_statistics_0 = raw_data_0[columns_req]\n",
    "playing_statistics_1 = raw_data_1[columns_req]                      \n",
    "playing_statistics_2 = raw_data_2[columns_req]\n",
    "playing_statistics_3 = raw_data_3[columns_req]\n",
    "playing_statistics_4 = raw_data_4[columns_req]\n",
    "playing_statistics_5 = raw_data_5[columns_req]\n",
    "playing_statistics_6 = raw_data_6[columns_req]\n",
    "playing_statistics_7 = raw_data_7[columns_req]\n",
    "playing_statistics_8 = raw_data_8[columns_req]\n",
    "playing_statistics_9 = raw_data_9[columns_req]\n",
    "playing_statistics_10 = raw_data_10[columns_req]\n",
    "playing_statistics_11 = raw_data_11[columns_req]   \n",
    "playing_statistics_12 = raw_data_12[columns_req]\n",
    "\n"
   ]
  },
  {
   "cell_type": "code",
   "execution_count": null,
   "metadata": {
    "collapsed": true
   },
   "outputs": [],
   "source": []
  }
 ],
 "metadata": {
  "kernelspec": {
   "display_name": "Python 2",
   "language": "python",
   "name": "python2"
  },
  "language_info": {
   "codemirror_mode": {
    "name": "ipython",
    "version": 2
   },
   "file_extension": ".py",
   "mimetype": "text/x-python",
   "name": "python",
   "nbconvert_exporter": "python",
   "pygments_lexer": "ipython2",
   "version": "2.7.13"
  }
 },
 "nbformat": 4,
 "nbformat_minor": 2
}
