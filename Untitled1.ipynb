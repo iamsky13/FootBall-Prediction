{
 "cells": [
  {
   "cell_type": "code",
   "execution_count": 1,
   "metadata": {},
   "outputs": [
    {
     "name": "stdout",
     "output_type": "stream",
     "text": [
      "RT @iPrav33n: Use of 3 Cs - Caste, Cash and Criminals, by partes for local polls in Province 2 #NepalVotes  #ElectionObservation #Nepal htt…\n",
      "Sentiment(polarity=0.0, subjectivity=0.0)\n",
      "RT @CPNUMLNEPAL: स्थानिय तह निर्वाचन २०७४ नेकपा एमाले को नयाँ चुनावी गित ~भोट कस्लाइ उज्यालो घाम लाई दिनुहोस ...#VoteForSun #nepalvotes #Ne…\n",
      "Sentiment(polarity=0.0, subjectivity=0.0)\n",
      "RT @iPrav33n: Use of 3 Cs - Caste, Cash and Criminals, by partes for local polls in Province 2 #NepalVotes  #ElectionObservation #Nepal htt…\n",
      "Sentiment(polarity=0.0, subjectivity=0.0)\n",
      "RT @iPrav33n: Use of 3 Cs - Caste, Cash and Criminals, by partes for local polls in Province 2 #NepalVotes  #ElectionObservation #Nepal htt…\n",
      "Sentiment(polarity=0.0, subjectivity=0.0)\n",
      "RT @iPrav33n: Use of 3 Cs - Caste, Cash and Criminals, by partes for local polls in Province 2 #NepalVotes  #ElectionObservation #Nepal htt…\n",
      "Sentiment(polarity=0.0, subjectivity=0.0)\n",
      "RT @iPrav33n: Use of 3 Cs - Caste, Cash and Criminals, by partes for local polls in Province 2 #NepalVotes  #ElectionObservation #Nepal htt…\n",
      "Sentiment(polarity=0.0, subjectivity=0.0)\n",
      "RT @iPrav33n: Use of 3 Cs - Caste, Cash and Criminals, by partes for local polls in Province 2 #NepalVotes  #ElectionObservation #Nepal htt…\n",
      "Sentiment(polarity=0.0, subjectivity=0.0)\n",
      "RT @iPrav33n: Use of 3 Cs - Caste, Cash and Criminals, by partes for local polls in Province 2 #NepalVotes  #ElectionObservation #Nepal htt…\n",
      "Sentiment(polarity=0.0, subjectivity=0.0)\n",
      "RT @iPrav33n: Use of 3 Cs - Caste, Cash and Criminals, by partes for local polls in Province 2 #NepalVotes  #ElectionObservation #Nepal htt…\n",
      "Sentiment(polarity=0.0, subjectivity=0.0)\n",
      "Use of 3 Cs - Caste, Cash and Criminals, by partes for local polls in Province 2 #NepalVotes  #ElectionObservation… https://t.co/EzcdeBg83M\n",
      "Sentiment(polarity=0.0, subjectivity=0.0)\n",
      "3 C- caste, candidate &amp; currency (money) - will work in local election for Province 2 #Madhes;\n",
      "Parties are busy looking at 3 Cs #Nepalvotes\n",
      "Sentiment(polarity=0.05, subjectivity=0.15)\n",
      "RT @navingautam: शाहि कालमा थापा लिस्ट बनाउथे। संगतको फल हो कि के हो गणतंत्रकालमा भट्टराई लिस्ट बनाउँदै छन् रे।#nepalvotes\n",
      "Sentiment(polarity=0.0, subjectivity=0.0)\n",
      "RT @manishbudathoki: Vote for #rahbar... vote for #future...vote for youth leadership..#nepallocalelections #nepalvotes  https://t.co/qu8yu…\n",
      "Sentiment(polarity=0.0, subjectivity=0.0)\n",
      "छाता अाेडने मेसाे नमिलेपछी, साईकलमा कुदने रे राजपा, घामले पाेल्छ कि रूखले छेक्छ हेर्न एक महिना कुर्नै पर्ला ।\n",
      "#nepalvotes\n",
      "Sentiment(polarity=0.0, subjectivity=0.0)\n",
      "भोट चैं राजपालाई नै है !\n",
      "#NepalVotes\n",
      "Sentiment(polarity=0.0, subjectivity=0.0)\n"
     ]
    }
   ],
   "source": [
    "import tweepy\n",
    "from textblob import TextBlob\n",
    "\n",
    "consumer_key = 'WwpIRHPp7TE3sPpqojWIb0sbk'\n",
    "consumer_secret = '9u7GZuJXj0g6vtkDu1KEzEGvxOkIrTRu1KiNOlFz2nnZj1RXiM'\n",
    "\n",
    "access_token = '270245486-XzGX4tMUibrtKIz30fvMSxxEEchWpvJWSN0pLjXJ'\n",
    "access_token_secret = 'Bpm1k1V2GadyFCLPvHpc19PHSziZ9mBsGPRaRvWOftjfb'\n",
    "\n",
    "auth = tweepy.OAuthHandler(consumer_key, consumer_secret)\n",
    "auth.set_access_token(access_token, access_token_secret)\n",
    "\n",
    "api = tweepy.API(auth)\n",
    "public_tweets = api.search('#NepalVotes')\n",
    "\n",
    "for tweet in public_tweets:\n",
    "    print(tweet.text)\n",
    "    analysis = TextBlob(tweet.text)\n",
    "    print(analysis.sentiment)"
   ]
  },
  {
   "cell_type": "code",
   "execution_count": null,
   "metadata": {
    "collapsed": true
   },
   "outputs": [],
   "source": []
  }
 ],
 "metadata": {
  "kernelspec": {
   "display_name": "Python 2",
   "language": "python",
   "name": "python2"
  },
  "language_info": {
   "codemirror_mode": {
    "name": "ipython",
    "version": 2
   },
   "file_extension": ".py",
   "mimetype": "text/x-python",
   "name": "python",
   "nbconvert_exporter": "python",
   "pygments_lexer": "ipython2",
   "version": "2.7.13"
  }
 },
 "nbformat": 4,
 "nbformat_minor": 2
}
